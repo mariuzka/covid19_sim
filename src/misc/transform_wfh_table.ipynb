{
 "cells": [
  {
   "cell_type": "code",
   "execution_count": 7,
   "source": [
    "from pathlib import Path\r\n",
    "import os\r\n",
    "\r\n",
    "import pandas as pd\r\n",
    "\r\n",
    "import src"
   ],
   "outputs": [],
   "metadata": {}
  },
  {
   "cell_type": "code",
   "execution_count": null,
   "source": [
    "# working from home\r\n",
    "df = pd.read_csv(Path.joinpath(src.PATH, \"data\", \"germany\", \"wfh_nace2.csv\"))\r\n",
    "df = df[[\"nace2_lab\", \"wfh_freq\", \"wfh_feas\"]]\r\n",
    "df.columns = [\"NACE-section\", \"Normal\", \"Maximum\"]\r\n",
    "df[[\"Normal\", \"Maximum\"]] = (df[[\"Normal\", \"Maximum\"]] / 100).round(3)\r\n",
    "df = df.set_index(\"NACE-section\")\r\n",
    "print(df.to_latex())"
   ],
   "outputs": [],
   "metadata": {}
  },
  {
   "cell_type": "code",
   "execution_count": 29,
   "source": [
    "# reduction of work hours\r\n",
    "df = pd.read_excel(Path.joinpath(src.PATH, \"data\", \"germany\", \"nace2_short_reduction_of_workhours.xlsx\"))\r\n",
    "\r\n",
    "for i, row in df.iterrows():\r\n",
    "    df.loc[i, \"NACE-section\"] = row[\"nace2_short_letter\"] + \" \" + row[\"NACE-section\"]\r\n",
    "\r\n",
    "df = df[[\"NACE-section\", \"quarter2\"]]\r\n",
    "df.columns = [\"NACE-section\", \"% work hour reduction\"]\r\n",
    "df = df.set_index(\"NACE-section\")\r\n",
    "print(df.to_latex())"
   ],
   "outputs": [
    {
     "output_type": "stream",
     "name": "stdout",
     "text": [
      "\\begin{tabular}{lr}\n",
      "\\toprule\n",
      "{} &  \\% work hour reduction \\\\\n",
      "NACE-section                                       &                        \\\\\n",
      "\\midrule\n",
      "A Agriculture, Forestry and Fishing                &                   -4.7 \\\\\n",
      "B Mining and Quarrying                             &                   -2.8 \\\\\n",
      "C Manufacturing                                    &                   -9.9 \\\\\n",
      "D Electricity, Gas, Steam and Air Conditioning ... &                   -0.6 \\\\\n",
      "E Water Supply; Sewerage, Waste Management and ... &                   -1.5 \\\\\n",
      "F Construction                                     &                   -1.5 \\\\\n",
      "G Wholesale and Retail Trade; Repair of Motor V... &                   -7.9 \\\\\n",
      "H Transportation and Storage                       &                   -5.6 \\\\\n",
      "I Accommodation and Food Service Activities        &                  -32.3 \\\\\n",
      "J Information and Communication                    &                   -4.0 \\\\\n",
      "K Financial and Insurance Activities               &                   -0.8 \\\\\n",
      "L Real Estate Activities                           &                   -2.5 \\\\\n",
      "M Professional, Scientific and Technical Activi... &                   -4.4 \\\\\n",
      "N Administrative and Support Service Activities    &                   -9.7 \\\\\n",
      "O Public Administration and Defence; Compulsory... &                    0.0 \\\\\n",
      "P Education                                        &                   -1.5 \\\\\n",
      "Q Human Health and Social Work Activities          &                   -2.0 \\\\\n",
      "R Arts, Entertainment and Recreation               &                  -15.5 \\\\\n",
      "S Other Service Activities                         &                   -6.3 \\\\\n",
      "T Activities of Households as Employers; Undiff... &                   -4.7 \\\\\n",
      "U Activities of Extraterritorial Organisations ... &                   -4.7 \\\\\n",
      "\\bottomrule\n",
      "\\end{tabular}\n",
      "\n"
     ]
    }
   ],
   "metadata": {}
  }
 ],
 "metadata": {
  "orig_nbformat": 4,
  "language_info": {
   "name": "python",
   "version": "3.8.10",
   "mimetype": "text/x-python",
   "codemirror_mode": {
    "name": "ipython",
    "version": 3
   },
   "pygments_lexer": "ipython3",
   "nbconvert_exporter": "python",
   "file_extension": ".py"
  },
  "kernelspec": {
   "name": "python3",
   "display_name": "Python 3.8.10 64-bit ('covid19_sim': conda)"
  },
  "interpreter": {
   "hash": "642d1be7b2bb5302a699d2f9a0e49ffb0118f4623929d99e8972f63e39604297"
  }
 },
 "nbformat": 4,
 "nbformat_minor": 2
}